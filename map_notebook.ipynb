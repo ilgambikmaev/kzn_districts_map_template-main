{
 "cells": [
  {
   "cell_type": "code",
   "execution_count": 7,
   "id": "642d19be-bf83-457b-9c3c-b0a086647250",
   "metadata": {},
   "outputs": [],
   "source": [
    "import pandas as pd\n",
    "from map_renderer import MapRenderer"
   ]
  },
  {
   "cell_type": "markdown",
   "id": "535eecb0-5d7b-4bce-9d46-89edc41e888b",
   "metadata": {},
   "source": [
    "Вместо многоточия ниже подставьте путь к своему .csv-файлу"
   ]
  },
  {
   "cell_type": "code",
   "execution_count": 8,
   "id": "b75df7c8-032e-4fc4-b454-e6c60144ea4c",
   "metadata": {},
   "outputs": [],
   "source": [
    "points_df = pd.read_csv(\"points.csv\")\n",
    "districts_df = pd.read_csv(...)"
   ]
  },
  {
   "cell_type": "code",
   "execution_count": 37,
   "id": "2a2f356f-7a1d-4e63-a394-55b046ddf584",
   "metadata": {},
   "outputs": [
    {
     "data": {
      "text/html": [
       "<div>\n",
       "<style scoped>\n",
       "    .dataframe tbody tr th:only-of-type {\n",
       "        vertical-align: middle;\n",
       "    }\n",
       "\n",
       "    .dataframe tbody tr th {\n",
       "        vertical-align: top;\n",
       "    }\n",
       "\n",
       "    .dataframe thead th {\n",
       "        text-align: right;\n",
       "    }\n",
       "</style>\n",
       "<table border=\"1\" class=\"dataframe\">\n",
       "  <thead>\n",
       "    <tr style=\"text-align: right;\">\n",
       "      <th></th>\n",
       "      <th>district</th>\n",
       "      <th>points</th>\n",
       "      <th>center</th>\n",
       "      <th>color</th>\n",
       "    </tr>\n",
       "  </thead>\n",
       "  <tbody>\n",
       "    <tr>\n",
       "      <th>0</th>\n",
       "      <td>Советский р-н</td>\n",
       "      <td>[[55.74933053, 49.28282012], [55.75022275, 49....</td>\n",
       "      <td>(55.80018078, 49.22454166)</td>\n",
       "      <td>green</td>\n",
       "    </tr>\n",
       "    <tr>\n",
       "      <th>1</th>\n",
       "      <td>Кировский р-н</td>\n",
       "      <td>[[55.79157857, 49.05581216], [55.79457119, 49....</td>\n",
       "      <td>(55.80684663, 49.048738244999996)</td>\n",
       "      <td>blue</td>\n",
       "    </tr>\n",
       "    <tr>\n",
       "      <th>2</th>\n",
       "      <td>Приволжский р-н</td>\n",
       "      <td>[[55.68995762, 49.14355671], [55.69440841, 49....</td>\n",
       "      <td>(55.73955638, 49.15810144)</td>\n",
       "      <td>yellow</td>\n",
       "    </tr>\n",
       "    <tr>\n",
       "      <th>3</th>\n",
       "      <td>Московский р-н</td>\n",
       "      <td>[[55.81703343, 49.09114806], [55.82896952, 49....</td>\n",
       "      <td>(55.833806195, 49.07518911)</td>\n",
       "      <td>red</td>\n",
       "    </tr>\n",
       "    <tr>\n",
       "      <th>4</th>\n",
       "      <td>Авиастроительный р-н</td>\n",
       "      <td>[[55.84475643, 49.0878232], [55.84693701, 49.0...</td>\n",
       "      <td>(55.853991179999994, 49.086870595)</td>\n",
       "      <td>pink</td>\n",
       "    </tr>\n",
       "    <tr>\n",
       "      <th>5</th>\n",
       "      <td>Ново-Савиновский р-н</td>\n",
       "      <td>[[55.81224943, 49.10959414], [55.81294515, 49....</td>\n",
       "      <td>(55.83213578, 49.131847)</td>\n",
       "      <td>white</td>\n",
       "    </tr>\n",
       "    <tr>\n",
       "      <th>6</th>\n",
       "      <td>Вахитовский р-н</td>\n",
       "      <td>[[55.75989995, 49.08043905], [55.76170341, 49....</td>\n",
       "      <td>(55.78227435, 49.127554200000006)</td>\n",
       "      <td>black</td>\n",
       "    </tr>\n",
       "    <tr>\n",
       "      <th>7</th>\n",
       "      <td>Верхнеуслонский р-н</td>\n",
       "      <td>[[55.75396248, 48.99221216], [55.7601299, 48.9...</td>\n",
       "      <td>(55.76627995, 48.9853633)</td>\n",
       "      <td>brown</td>\n",
       "    </tr>\n",
       "  </tbody>\n",
       "</table>\n",
       "</div>"
      ],
      "text/plain": [
       "               district                                             points  \\\n",
       "0         Советский р-н  [[55.74933053, 49.28282012], [55.75022275, 49....   \n",
       "1         Кировский р-н  [[55.79157857, 49.05581216], [55.79457119, 49....   \n",
       "2       Приволжский р-н  [[55.68995762, 49.14355671], [55.69440841, 49....   \n",
       "3        Московский р-н  [[55.81703343, 49.09114806], [55.82896952, 49....   \n",
       "4  Авиастроительный р-н  [[55.84475643, 49.0878232], [55.84693701, 49.0...   \n",
       "5  Ново-Савиновский р-н  [[55.81224943, 49.10959414], [55.81294515, 49....   \n",
       "6       Вахитовский р-н  [[55.75989995, 49.08043905], [55.76170341, 49....   \n",
       "7   Верхнеуслонский р-н  [[55.75396248, 48.99221216], [55.7601299, 48.9...   \n",
       "\n",
       "                               center   color  \n",
       "0          (55.80018078, 49.22454166)   green  \n",
       "1   (55.80684663, 49.048738244999996)    blue  \n",
       "2          (55.73955638, 49.15810144)  yellow  \n",
       "3         (55.833806195, 49.07518911)     red  \n",
       "4  (55.853991179999994, 49.086870595)    pink  \n",
       "5            (55.83213578, 49.131847)   white  \n",
       "6   (55.78227435, 49.127554200000006)   black  \n",
       "7           (55.76627995, 48.9853633)   brown  "
      ]
     },
     "execution_count": 37,
     "metadata": {},
     "output_type": "execute_result"
    }
   ],
   "source": [
    "districts_df"
   ]
  },
  {
   "cell_type": "code",
   "execution_count": 35,
   "id": "144f548b-7f96-48bb-9225-29ecd2f057f9",
   "metadata": {},
   "outputs": [],
   "source": [
    "renderer = MapRenderer(districts_df, points_df)"
   ]
  },
  {
   "cell_type": "code",
   "execution_count": null,
   "id": "757d5fe5-4239-41a4-b41d-794fe7ffabb9",
   "metadata": {},
   "outputs": [],
   "source": [
    "renderer.get_map()"
   ]
  }
 ],
 "metadata": {
  "kernelspec": {
   "display_name": "Python 3 (ipykernel)",
   "language": "python",
   "name": "python3"
  },
  "language_info": {
   "codemirror_mode": {
    "name": "ipython",
    "version": 3
   },
   "file_extension": ".py",
   "mimetype": "text/x-python",
   "name": "python",
   "nbconvert_exporter": "python",
   "pygments_lexer": "ipython3",
   "version": "3.11.7"
  }
 },
 "nbformat": 4,
 "nbformat_minor": 5
}
