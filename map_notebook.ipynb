{
 "cells": [
  {
   "cell_type": "code",
   "execution_count": null,
   "id": "1dcb4e7f",
   "metadata": {},
   "outputs": [],
   "source": [
    "import pandas as pd\n",
    "import matplotlib.pyplot as plt\n",
    "\n",
    "def load_hull_data(file_path):\n",
    "    return pd.read_csv(file_path)\n",
    "\n",
    "def render_map(hull_data):\n",
    "    districts = hull_data['district'].unique()\n",
    "    \n",
    "    plt.figure(figsize=(10, 8))\n",
    "    \n",
    "    for district in districts:\n",
    "        district_hull = hull_data[hull_data['district'] == district]\n",
    "        plt.plot(district_hull['lon'], district_hull['lat'], label=district)\n",
    "    \n",
    "    plt.xlabel('Longitude')\n",
    "    plt.ylabel('Latitude')\n",
    "    plt.legend()\n",
    "    plt.title('Districts of Kazan with Convex Hulls')\n",
    "    plt.show()\n",
    "\n",
    "hull_data = load_hull_data('hulls.csv')\n",
    "render_map(hull_data)\n"
   ]
  }
 ],
 "metadata": {
  "kernelspec": {
   "display_name": "Python 3",
   "language": "python",
   "name": "python3"
  },
  "language_info": {
   "codemirror_mode": {
    "name": "ipython",
    "version": 3
   },
   "file_extension": ".py",
   "mimetype": "text/x-python",
   "name": "python",
   "nbconvert_exporter": "python",
   "pygments_lexer": "ipython3",
   "version": "3.8.5"
  }
 },
 "nbformat": 4,
 "nbformat_minor": 5
}
